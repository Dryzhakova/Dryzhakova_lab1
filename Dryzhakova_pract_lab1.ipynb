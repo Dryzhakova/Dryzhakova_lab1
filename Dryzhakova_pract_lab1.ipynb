{
  "nbformat": 4,
  "nbformat_minor": 0,
  "metadata": {
    "colab": {
      "name": "Dryzhakova_pract_lab1.ipynb",
      "provenance": [],
      "authorship_tag": "ABX9TyPFSt3w8pNqG3cfP1c0tyt3",
      "include_colab_link": true
    },
    "kernelspec": {
      "name": "python3",
      "display_name": "Python 3"
    },
    "language_info": {
      "name": "python"
    }
  },
  "cells": [
    {
      "cell_type": "markdown",
      "metadata": {
        "id": "view-in-github",
        "colab_type": "text"
      },
      "source": [
        "<a href=\"https://colab.research.google.com/github/Dryzhakova/Dryzhakova_lab1/blob/main/Dryzhakova_pract_lab1.ipynb\" target=\"_parent\"><img src=\"https://colab.research.google.com/assets/colab-badge.svg\" alt=\"Open In Colab\"/></a>"
      ]
    },
    {
      "cell_type": "code",
      "source": [
        "!pip install pycodestyle\n",
        "!pip install --index-url https://test.pypi.org/simple/ nbpep8"
      ],
      "metadata": {
        "colab": {
          "base_uri": "https://localhost:8080/"
        },
        "id": "QsmL-u8LRFzl",
        "outputId": "661a5266-c192-4246-a849-81b5a409dc53"
      },
      "execution_count": 64,
      "outputs": [
        {
          "output_type": "stream",
          "name": "stdout",
          "text": [
            "Looking in indexes: https://pypi.org/simple, https://us-python.pkg.dev/colab-wheels/public/simple/\n",
            "Collecting pycodestyle\n",
            "  Downloading pycodestyle-2.8.0-py2.py3-none-any.whl (42 kB)\n",
            "\u001b[K     |████████████████████████████████| 42 kB 663 kB/s \n",
            "\u001b[?25hInstalling collected packages: pycodestyle\n",
            "Successfully installed pycodestyle-2.8.0\n",
            "Looking in indexes: https://test.pypi.org/simple/, https://us-python.pkg.dev/colab-wheels/public/simple/\n",
            "Collecting nbpep8\n",
            "  Downloading https://test-files.pythonhosted.org/packages/c1/07/6b91c986efe7c3adac9e2ec061037f0cc4307925819d37277c3802c2d117/nbpep8-0.0.15-py3-none-any.whl (3.2 kB)\n",
            "Installing collected packages: nbpep8\n",
            "Successfully installed nbpep8-0.0.15\n"
          ]
        }
      ]
    },
    {
      "cell_type": "code",
      "source": [
        "# Task 1\n",
        "# Розробити функцію, яка приймає на вхід необмежену кількість\n",
        "# списків довільної довжини та два іменовані параметри k та n.\n",
        "# Функція повертає всі списки, у яких елемент k зустрічається n разів.\n",
        "# Вхід : test_list = [(4, 5, 5, 4), (5, 4, 3)], K = 5, N = 2\n",
        "# Вихід : [(4, 5, 5, 4)]\n",
        "# Вхід : test_list = [(4, 5, 5, 4), (5, 4, 3)], K = 5, N = 3\n",
        "# Вихід : []\n",
        "# Функція з довільною кількістю аргументів\n",
        "#  Наступна функція має один обов’язковий аргумент a, довільну кількість\n",
        "# неіменованих аргументів *b (кортеж), і довільну кількість іменованих аргументів **c (словник).\n",
        "#1. функция должна спрашивать кол-во списков\n",
        "#2. кол-во цифр в списке \n",
        "#3. к\n",
        "#4. н\n",
        "\n",
        "from random import randint# randint - function of the random module;\n",
        "from nbpep8.nbpep8 import pep8\n",
        "\n",
        "def function_of_argum(*test_list, k, n): #  Function with any number of arguments\n",
        "  for item in test_list:\n",
        "    if item.count(k) >= n:\n",
        "      return [item] \n",
        "    else:\n",
        "      return []#  if the answer is None,output []\n",
        "\n",
        "print(\"If you want to choose random enter - 1, see working example - 2\")\n",
        "choise = int(input())\n",
        "if choise == 1:\n",
        "  print(\"Enter the number of list\")\n",
        "  num_in_list = int(input())\n",
        "  \n",
        "  print(\"Enter the number of digits for list\")\n",
        "  num_of_dig = int(input())\n",
        "  test_list = []# список(в си массив)\n",
        "  for i in range(num_in_list):# number of lists\n",
        "    for i in range(num_of_dig):#  number of digits for list\n",
        "      num = randint(1,5)# Returns a random number within a given range - (1,5)\n",
        "      test_list.append(num)#  adds  num to the end of the test_list\n",
        "    print(\"Our list \", test_list)\n",
        "    print(\"Output \", function_of_argum(test_list, k = 3, n = 2))\n",
        "    del test_list[:] \n",
        "  \n",
        "elif choise == 2:\n",
        "  print(\"Output \", function_of_argum((4, 5, 5, 4), (5, 4, 3), k = 5, n = 2))\n",
        "  print(\"Output \", function_of_argum((4, 5, 5, 4), (5, 4, 3), k = 5, n = 3))\n",
        "pep8(_ih)"
      ],
      "metadata": {
        "colab": {
          "base_uri": "https://localhost:8080/"
        },
        "id": "4JWbLNQe60yz",
        "outputId": "1b30424b-9e92-4c3c-fd61-1062237e794c"
      },
      "execution_count": 70,
      "outputs": [
        {
          "output_type": "stream",
          "name": "stdout",
          "text": [
            "If you want to choose random enter - 1, see working example - 2\n",
            "2\n",
            "Output  [(4, 5, 5, 4)]\n",
            "Output  []\n",
            "cell_content.py:11:80: E501 line too long (96 > 79 characters)\n",
            "cell_content.py:12:1: E265 block comment should start with '# '\n",
            "cell_content.py:13:1: E265 block comment should start with '# '\n",
            "cell_content.py:13:25: W291 trailing whitespace\n",
            "cell_content.py:14:1: E265 block comment should start with '# '\n",
            "cell_content.py:15:1: E265 block comment should start with '# '\n",
            "cell_content.py:17:27: E261 at least two spaces before inline comment\n",
            "cell_content.py:20:1: E302 expected 2 blank lines, found 1\n",
            "cell_content.py:20:41: E261 at least two spaces before inline comment\n",
            "cell_content.py:20:42: E262 inline comment should start with '# '\n",
            "cell_content.py:20:80: E501 line too long (81 > 79 characters)\n",
            "cell_content.py:21:3: E111 indentation is not a multiple of 4\n",
            "cell_content.py:23:7: E111 indentation is not a multiple of 4\n",
            "cell_content.py:23:20: W291 trailing whitespace\n",
            "cell_content.py:25:7: E111 indentation is not a multiple of 4\n",
            "cell_content.py:25:16: E261 at least two spaces before inline comment\n",
            "cell_content.py:25:16: E262 inline comment should start with '# '\n",
            "cell_content.py:27:1: E305 expected 2 blank lines after class or function definition, found 1\n",
            "cell_content.py:30:3: E111 indentation is not a multiple of 4\n",
            "cell_content.py:31:3: E111 indentation is not a multiple of 4\n",
            "cell_content.py:32:1: W293 blank line contains whitespace\n",
            "cell_content.py:33:3: E111 indentation is not a multiple of 4\n",
            "cell_content.py:34:3: E111 indentation is not a multiple of 4\n",
            "cell_content.py:35:3: E111 indentation is not a multiple of 4\n",
            "cell_content.py:35:17: E261 at least two spaces before inline comment\n",
            "cell_content.py:36:3: E111 indentation is not a multiple of 4\n",
            "cell_content.py:36:31: E261 at least two spaces before inline comment\n",
            "cell_content.py:37:32: E261 at least two spaces before inline comment\n",
            "cell_content.py:37:32: E262 inline comment should start with '# '\n",
            "cell_content.py:38:7: E111 indentation is not a multiple of 4\n",
            "cell_content.py:38:22: E231 missing whitespace after ','\n",
            "cell_content.py:38:25: E261 at least two spaces before inline comment\n",
            "cell_content.py:39:7: E111 indentation is not a multiple of 4\n",
            "cell_content.py:39:28: E261 at least two spaces before inline comment\n",
            "cell_content.py:39:28: E262 inline comment should start with '# '\n",
            "cell_content.py:41:52: E251 unexpected spaces around keyword / parameter equals\n",
            "cell_content.py:41:54: E251 unexpected spaces around keyword / parameter equals\n",
            "cell_content.py:41:59: E251 unexpected spaces around keyword / parameter equals\n",
            "cell_content.py:41:61: E251 unexpected spaces around keyword / parameter equals\n",
            "cell_content.py:42:21: W291 trailing whitespace\n",
            "cell_content.py:43:1: W293 blank line contains whitespace\n",
            "cell_content.py:45:3: E111 indentation is not a multiple of 4\n",
            "cell_content.py:45:64: E251 unexpected spaces around keyword / parameter equals\n",
            "cell_content.py:45:66: E251 unexpected spaces around keyword / parameter equals\n",
            "cell_content.py:45:71: E251 unexpected spaces around keyword / parameter equals\n",
            "cell_content.py:45:73: E251 unexpected spaces around keyword / parameter equals\n",
            "cell_content.py:46:3: E111 indentation is not a multiple of 4\n",
            "cell_content.py:46:64: E251 unexpected spaces around keyword / parameter equals\n",
            "cell_content.py:46:66: E251 unexpected spaces around keyword / parameter equals\n",
            "cell_content.py:46:71: E251 unexpected spaces around keyword / parameter equals\n",
            "cell_content.py:46:73: E251 unexpected spaces around keyword / parameter equals\n",
            "\n"
          ]
        }
      ]
    },
    {
      "cell_type": "code",
      "source": [
        "#Task 2\n",
        "# Розробити функцію, яка приймає список списків однакової довжини\n",
        "# (двомірний масив) та параметр k. Функція сортує масив за заданим\n",
        "# параметром k стовпцем. Використати lambda-функції.\n",
        "# Вхід: [[1, 3, 3], [2, 1, 2], [3, 2, 1]]\n",
        "# Вихід:\n",
        "# Відсортовано за стовпцем 0, [[1, 3, 3], [2, 1, 2], [3, 2, 1]]\n",
        "# Відсортовано за стовпцем 1, [[2, 1, 2], [3, 2, 1], [1, 3, 3]]\n",
        "# Відсортовано за стовпцем 2, [[3, 2, 1], [2, 1, 2], [1, 3, 3]]\n",
        "# Вхід: array = [[‘java’, 1995], [‘c++’, 1983], [‘python’, 1989]]\n",
        "# Вихід:\n",
        "# Відсортовано за стовпцем 0, [[‘c++’, 1983], [‘java’, 1995], [‘python’, 1989]]\n",
        "# Відсортовано за стовпцем 1, [[‘c++’, 1983], [‘python’, 1989], [‘java’, 1995]].\n",
        "\n",
        "def sort(*text_dictionary, k):\n",
        "    return sorted(*text_dictionary, key = lambda x: x[k]) # використувуємо лямбда-функцію\n",
        "\n",
        "text_dictionary = [1, 3, 3], [2, 1, 2], [3, 2, 1]\n",
        "print(sort(text_dictionary, k = 0))\n",
        "print(sort(text_dictionary, k = 1))\n",
        "print(sort(text_dictionary, k = 2))\n",
        "\n",
        "text_dictionary = [['java', 1995], ['c++', 1983], ['python', 1989]]\n",
        "print(sort(text_dictionary, k = 0))\n",
        "print(sort(text_dictionary, k = 1))"
      ],
      "metadata": {
        "colab": {
          "base_uri": "https://localhost:8080/"
        },
        "id": "xDqbqyPsMpRW",
        "outputId": "6c9a675a-a951-439f-9536-310674928922"
      },
      "execution_count": 63,
      "outputs": [
        {
          "output_type": "stream",
          "name": "stdout",
          "text": [
            "[[1, 3, 3], [2, 1, 2], [3, 2, 1]]\n",
            "[[2, 1, 2], [3, 2, 1], [1, 3, 3]]\n",
            "[[3, 2, 1], [2, 1, 2], [1, 3, 3]]\n",
            "[['c++', 1983], ['java', 1995], ['python', 1989]]\n",
            "[['c++', 1983], ['python', 1989], ['java', 1995]]\n"
          ]
        }
      ]
    },
    {
      "cell_type": "code",
      "source": [
        "#Task 3\n",
        "# Розробити функцію, яка приймає два списки з даними та список з\n",
        "# індексами. Функція виконує обмін елементів в списках із заданими\n",
        "# індексами. Функція повертає кортеж з двох змінених списків даних.\n",
        "# Вхід: [1,2,3,4,5,6],[‘a’,’b’,’c’,’e’,’j’],[1,2,3]\n",
        "# Вихід: [1,’b’,’c’,’e’,5,6],[‘a’,2,3,4,’j’].\n",
        "\n",
        "def function(*text_dictionary, numbers):\n",
        "    for i in numbers:\n",
        "        temp = text_dictionary[0][i] # тимчасове значення\n",
        "        text_dictionary[0][i] = text_dictionary[1][i] # міняємо значення першого списку\n",
        "        text_dictionary[1][i] = temp # міняємо значення другого списку\n",
        "    return text_dictionary\n",
        "\n",
        "print(function([1, 2, 3, 4, 5, 6], ['a', 'b', 'c', 'e', 'j'], numbers = [1, 2, 3]))"
      ],
      "metadata": {
        "colab": {
          "base_uri": "https://localhost:8080/"
        },
        "id": "0HsJUhzM6phQ",
        "outputId": "3a5dd7e5-f8eb-4d30-8351-d0dbdf1e8768"
      },
      "execution_count": 58,
      "outputs": [
        {
          "output_type": "stream",
          "name": "stdout",
          "text": [
            "([1, 'b', 'c', 'e', 5, 6], ['a', 2, 3, 4, 'j'])\n"
          ]
        }
      ]
    },
    {
      "cell_type": "code",
      "source": [
        "#Task 4\n",
        "#Розробити функцію, яка два списки довільної довжини. Функція\n",
        "#повертає всі можливі попарні комбінації елементів заданих списків\n",
        "#без повторень. Використовувати функцію zip().\n",
        "\n",
        "#Вхід: [\"a\",\"b\"], [1,2]\n",
        "#Вихід: [[('a',1),('b',2)],[('a',2),('b',1)]].\n",
        "\n",
        "#zip – об’єднує послідовності в список кортежів;\n",
        "\n",
        "def function(first_test_list,second_test_list): \n",
        "  output = list(zip(first_test_list, second_test_list)), list(zip(first_test_list, reversed(second_test_list)))#add first string with second\n",
        "  return output\n",
        "\n",
        "print(list(function([\"a\", \"b\"], [1, 2])))"
      ],
      "metadata": {
        "colab": {
          "base_uri": "https://localhost:8080/"
        },
        "id": "x3q4Kq396ptX",
        "outputId": "bcc895eb-29bb-4624-89a3-5c0886636651"
      },
      "execution_count": 59,
      "outputs": [
        {
          "output_type": "stream",
          "name": "stdout",
          "text": [
            "[[('a', 1), ('b', 2)], [('a', 2), ('b', 1)]]\n"
          ]
        }
      ]
    },
    {
      "cell_type": "code",
      "source": [
        "#Розробити функцію, яка два списки довільної довжини. Функція\n",
        "#повертає всі можливі попарні комбінації елементів заданих списків\n",
        "#без повторень. Використовувати функцію zip().\n",
        "\n",
        "#Вхід: [\"a\",\"b\"], [1,2]\n",
        "#Вихід: [[('a',1),('b',2)],[('a',2),('b',1)]].\n",
        "\n",
        "#zip – об’єднує послідовності в список кортежів;\n",
        "def function(first_test_list,second_test_list): \n",
        "  output = list(zip(first_test_list, second_test_list)), list(zip(first_test_list, reversed(second_test_list)))#add first string with second\n",
        "  return output\n",
        "\n",
        "print(\"If you want entered information enter - 1, see working example - 2\")\n",
        "choise = int(input())\n",
        "if choise == 1:\n",
        "  print(\"Enter the number of list\")\n",
        "  num_in_list = int(input())\n",
        "  \n",
        "  print(\"Enter the number of digits for list\")\n",
        "  num_of_dig = int(input())\n",
        "  \n",
        "  test_list = []#список(в си массив)\n",
        "  for i in range(num_in_list):#number of lists\n",
        "    #for i in range(num_of_dig):#number of digits for list\n",
        "      list_of_num_or_word = [item for item in input().split()] #entered the new inputs in list\n",
        "      print(list_of_num_or_word)\n",
        "      list_of_words_or_num = [item for item in input().split()] #entered the new inputs in list\n",
        "      print(list_of_words_or_num)\n",
        "      #test_list.append(start_list)#adds num to the end of the test_list\n",
        "    #print(\"Our list \", test_list)\n",
        "      print(\"Output \", list(function(list_of_num_or_word,list_of_words_or_num)))\n",
        "      break\n",
        "    #del test_list[:] \n",
        "elif choise == 2:\n",
        "  print(\"Output \", list(function([\"a\", \"b\"], [1, 2])))"
      ],
      "metadata": {
        "colab": {
          "base_uri": "https://localhost:8080/"
        },
        "id": "uUUwGwIO62iO",
        "outputId": "40c7b1d2-47df-4592-978f-65af207ea322"
      },
      "execution_count": 24,
      "outputs": [
        {
          "output_type": "stream",
          "name": "stdout",
          "text": [
            "If you want entered information enter - 1, see working example - 2\n",
            "1\n",
            "Enter the number of list\n",
            "2\n",
            "Enter the number of digits for list\n",
            "2\n",
            "1 2\n",
            "['1', '2']\n",
            "a b\n",
            "['a', 'b']\n",
            "Output  [[('1', 'a'), ('2', 'b')], [('1', 'b'), ('2', 'a')]]\n"
          ]
        }
      ]
    },
    {
      "cell_type": "code",
      "source": [
        "#Task 5\n",
        "# Розробити функцію, яка приймає словник. Функція повертає\n",
        "# відсортований список унікальних значень заданого словника.\n",
        "# Вхід : {‘gfg’: [5, 6, 7, 8], ‘best’: [6, 12, 10, 8], ‘is’: [10, 11, 7, 5], ‘for’: [1, 2, 5]}\n",
        "# Вихід : [1, 2, 5, 6, 7, 8, 10, 11, 12].\n",
        "import numpy as np\n",
        "\n",
        "def function(text_dictionary: dict):\n",
        "  return list(set([item for list_dict in text_dictionary.values() for item in list_dict]))\n",
        "\n",
        "words = [\"gfg\", \"best\", \"is\", \"for\"]\n",
        "numbers = [[5, 6, 7, 8],[6, 12, 10, 8], [10, 11, 7, 5], [1, 2, 5]]\n",
        "text_dictionary = dict(zip(words, numbers))\n",
        "print(text_dictionary)\n",
        "print(\"Output \", function(text_dictionary))"
      ],
      "metadata": {
        "colab": {
          "base_uri": "https://localhost:8080/"
        },
        "id": "mARx-Wl36p4H",
        "outputId": "f36df00d-8047-441a-8f1d-4c9583e88371"
      },
      "execution_count": 34,
      "outputs": [
        {
          "output_type": "stream",
          "name": "stdout",
          "text": [
            "{'gfg': [5, 6, 7, 8], 'best': [6, 12, 10, 8], 'is': [10, 11, 7, 5], 'for': [1, 2, 5]}\n",
            "Output  [1, 2, 5, 6, 7, 8, 10, 11, 12]\n"
          ]
        }
      ]
    },
    {
      "cell_type": "code",
      "source": [
        "# Розробити функцію, яка приймає словник. Функція повертає\n",
        "# відсортований список унікальних значень заданого словника.\n",
        "# Вхід : {‘gfg’: [5, 6, 7, 8], ‘best’: [6, 12, 10, 8], ‘is’: [10, 11, 7, 5], ‘for’: [1, 2, 5]}\n",
        "# Вихід : [1, 2, 5, 6, 7, 8, 10, 11, 12].\n",
        "\n",
        "import numpy as np\n",
        "\n",
        "def function(text_dictionary: dict):\n",
        "  return list(set([item for list_dict in text_dictionary.values() for item in list_dict]))\n",
        "    \n",
        "print(\"If you want entered information enter - 1, see working example - 2\")\n",
        "choise = int(input())\n",
        "if choise == 1:\n",
        "  print(\"Enter the number of list in the list\")\n",
        "  num_in_list = int(input())\n",
        "  print(\"Enter the number of digits for list\")\n",
        "  num_of_dig = int(input())\n",
        "  \n",
        "  text_dictionary = []#список(в си массив)\n",
        "  numbers_list = []\n",
        "  words_list = []\n",
        "  print(\"Enter the numbers\")\n",
        "  \n",
        "  for i in range(num_in_list):#number of lists\n",
        "    #for i in range(1):#number of digits for list\n",
        "    start_list = [item for item in input().split()] #entered the new inputs in list\n",
        "    print(start_list)\n",
        "  numbers_list.append(start_list)#adds num to the end of the test_list\n",
        "  print(\"Our numbers list \", numbers_list)\n",
        "  print(\"Enter the words\")\n",
        "  for i in range(num_in_list):#number of lists\n",
        "    #for i in range(num_of_dig):#number of digits for list\n",
        "    start_list = [item for item in input().split()] #entered the new inputs in list\n",
        "    print(start_list)\n",
        "  words_list.append(start_list)#adds num to the end of the test_list\n",
        "  #print(\"Our words list \", words_list)\n",
        "  text_dictionary = dict(zip(np.array(numbers_list), np.array(words_list)))\n",
        "  print(text_dictionary)\n",
        "  print(\"Output \", function(test_list))\n",
        "\n",
        "elif choise == 2:\n",
        "  words = [\"gfg\", \"best\", \"is\", \"for\"]\n",
        "  numbers = [[5, 6, 7, 8],[6, 12, 10, 8], [10, 11, 7, 5], [1, 2, 5]]\n",
        "  text_dictionary = dict(zip(words, numbers))\n",
        "  print(text_dictionary)\n",
        "  print(\"Output \", function(text_dictionary))\n",
        "\n",
        "\n",
        "  \n",
        "  #del test_list[:] "
      ],
      "metadata": {
        "colab": {
          "base_uri": "https://localhost:8080/"
        },
        "id": "YAO2jMzS63DY",
        "outputId": "138470ac-b243-4c16-be03-3d86d76896ae"
      },
      "execution_count": 36,
      "outputs": [
        {
          "output_type": "stream",
          "name": "stdout",
          "text": [
            "If you want entered information enter - 1, see working example - 2\n",
            "2\n",
            "{'gfg': [5, 6, 7, 8], 'best': [6, 12, 10, 8], 'is': [10, 11, 7, 5], 'for': [1, 2, 5]}\n",
            "Output  [1, 2, 5, 6, 7, 8, 10, 11, 12]\n"
          ]
        }
      ]
    },
    {
      "cell_type": "code",
      "source": [
        "#Task 6\n",
        "# Розробити функцію, яка приймає список, словник, параметр k.\n",
        "# Функція повертає значення ключа k зі словника, якщо k є у списку.\n",
        "# Вхід : test_list = [“Gfg”, “is”, “Good”, “for”, “Geeks”], test_dict = {“Gfg” : 5, “Best” : 6}, K = “Gfg”\n",
        "# Вихід : 5\n",
        "# Вхід: test_list = [“Good”, “for”, “Geeks”], test_dict = {“Gfg” : 5, “Best” : 6}, K = “Gfg”\n",
        "# Вихід: None\n",
        "\n",
        "def function(text_dictionary: list, text_dictionary1: dict, k):# перевіряємо наявність значення за ключем\n",
        "    if k in text_dictionary:\n",
        "      return text_dictionary1[k]\n",
        "    else:\n",
        "      None\n",
        "\n",
        "text_dictionary=[\"Gfg\", \"is\", \"Good\", \"for\", \"Geeks\"]\n",
        "text_dictionary1={\"Gfg\": 5, \"Best\": 6}\n",
        "k=\"Gfg\"\n",
        "print(function(text_dictionary,text_dictionary1,k))\n",
        "text_dictionary=[\"Good\", \"for\", \"Geeks\"] \n",
        "text_dictionary1={\"Gfg\": 5, \"Best\": 6}\n",
        "k=\"Gfg\"\n",
        "print(function(text_dictionary,text_dictionary1,k))"
      ],
      "metadata": {
        "colab": {
          "base_uri": "https://localhost:8080/"
        },
        "id": "Uhfr8_5a6qhq",
        "outputId": "08fbefb2-bc82-4177-bec0-3d451d5665f6"
      },
      "execution_count": 38,
      "outputs": [
        {
          "output_type": "stream",
          "name": "stdout",
          "text": [
            "5\n",
            "None\n"
          ]
        }
      ]
    },
    {
      "cell_type": "code",
      "source": [
        ""
      ],
      "metadata": {
        "id": "JFdCvxQO63k1"
      },
      "execution_count": null,
      "outputs": []
    },
    {
      "cell_type": "code",
      "source": [
        "# Розробити функція, яка приймає словник, параметр k. Функція\n",
        "# повертає словник, у якому видалені всі пари “ключ-значення”, де\n",
        "# значення більші за k.\n",
        "# Вхід : test_dict = {‘Gfg’ : 3, ‘is’ : 7, ‘best’ : 10, ‘for’ : 6, ‘geeks’ : ‘CS’}, K = 7\n",
        "# Вихід : {‘Gfg’ : 3, ‘for’ : 6, ‘geeks’ : ‘CS’}\n",
        "# Вхід : test_dict = {‘Gfg’ : 3, ‘is’ : 7, ‘best’ : 10, ‘for’ : 6, ‘geeks’ : ‘CS’}, K = 1\n",
        "# Вихід : {‘geeks’ : ‘CS’}\n",
        "\n",
        "# вирокистовуємо генератор, розкладаємо словник на ключі та значення\n",
        "# та повертаємо потрібні нам\n",
        "\n",
        "def function(text_dictionary, k):\n",
        "    return {item: ident for item, ident in text_dictionary.items() if type(ident) == str or ident < k}\n",
        "\n",
        "print(function({\"Gfg\": 3, \"is\": 7, \"best\": 10, \"for\": 6, \"geeks\": \"CS\"}, 7))\n",
        "print(function({\"Gfg\": 3, \"is\": 7, \"best\": 10, \"for\": 6, \"geeks\": \"CS\"}, 1))\n"
      ],
      "metadata": {
        "colab": {
          "base_uri": "https://localhost:8080/"
        },
        "id": "d4E2uvOU6qqZ",
        "outputId": "d318a76c-9e01-4e10-ea1e-b51c174b5600"
      },
      "execution_count": 51,
      "outputs": [
        {
          "output_type": "stream",
          "name": "stdout",
          "text": [
            "{'Gfg': 3, 'for': 6, 'geeks': 'CS'}\n",
            "{'geeks': 'CS'}\n"
          ]
        }
      ]
    }
  ]
}